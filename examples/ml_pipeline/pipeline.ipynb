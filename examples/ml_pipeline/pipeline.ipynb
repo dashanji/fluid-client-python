{
 "cells": [
  {
   "cell_type": "markdown",
   "metadata": {},
   "source": [
    "# 使用Fluid构建自定义的机器学习训练流水线\n",
    "\n",
    "机器学习训练流水线往往伴随着大量数据处理和消费的流程，包括数据下载、数据预处理、模型训练以及模型Checkpoint的归档等多个步骤。这些串联的步骤可被视作数据在不同存储系统和计算系统间的流转过程，即上一步骤的输出文件作为下一步骤的输入文件，从而形成一条完整的数据流。然而，不同步骤产出的数据往往有不同的生命周期，例如：下载得到的原始数据集和训练得到的模型Checkpoint需要持久化地存储在大容量存储中，而预处理后的数据在模型训练运行成功后即可删除，无需持久化保存。另外，不同步骤对于数据的消费和处理过程有着不同的性能要求，数据预处理步骤和模型训练步骤相比其他步骤有着更高的数据I/O吞吐需求，以此确保计算过程尽快完成，提升运行效率。\n",
    "\n",
    "Fluid是一个开源的Kubernetes原生的分布式数据集编排和加速引擎，Fluid通过在大容量的云存储系统（e.g. S3, HDFS等)之上添加缓存系统层（Alluxio, JuiceFS等），分别满足机器学习流水线各步骤的数据持久化和性能需求。Fluid支持定义数据下载、数据迁移、数据预处理、数据消费（例如模型训练）等多个步骤，并支持将数据流转流程串联，构建自定义的机器学习流水线。\n",
    "\n",
    "接下来展示如何使用Fluid Python SDK定义并提交示例机器学习训练流水线任务。本示例包括如下几步：\n",
    "1. 原始数据集迁移：从阿里云OSS对象存储系统中将MNIST原始数据集gz压缩文件迁移到JuiceFS缓存系统。\n",
    "2. 数据集预处理：将MNIST原始数据集解压\n",
    "3. 模型训练：使用Kubeflow/Arena提交模型训练任务。模型训练任务基于MNIST解压后的数据集文件，训练CNN模型，训练完成后CNN模型Checkpoint写入到JuiceFS缓存系统中\n",
    "4. 模型归档：模型Checkpoint文件迁移到阿里云OSS对象存储系统中，归档训练好的模型。"
   ]
  },
  {
   "cell_type": "markdown",
   "metadata": {},
   "source": [
    "## 前提条件\n",
    "- 可连通的Kubernetes集群，集群中已安装Fluid\n",
    "- 配置缓存系统所需的后端存储系统、访问凭证等信息。本示例中使用JuiceFS作为缓存系统，JuiceFS元信息服务为redis，对象存储系统为minio。redis与minio均在Kubernetes集群中运行。\n",
    "- 安装Fluid Python SDK"
   ]
  },
  {
   "cell_type": "code",
   "execution_count": 1,
   "metadata": {},
   "outputs": [
    {
     "name": "stdout",
     "output_type": "stream",
     "text": [
      "Looking in indexes: https://pypi.tuna.tsinghua.edu.cn/simple\n",
      "Collecting git+https://github.com/fluid-cloudnative/fluid-client-python.git\n",
      "  Cloning https://github.com/fluid-cloudnative/fluid-client-python.git to /private/var/folders/np/hp7jhh3n7fz_wtbg5rxyk0g00000gp/T/pip-req-build-_8e9fivy\n",
      "  Running command git clone --filter=blob:none --quiet https://github.com/fluid-cloudnative/fluid-client-python.git /private/var/folders/np/hp7jhh3n7fz_wtbg5rxyk0g00000gp/T/pip-req-build-_8e9fivy\n",
      "  Resolved https://github.com/fluid-cloudnative/fluid-client-python.git to commit 3056a5e14ee6aa0edbb0699f8bca59cc9dfa41e2\n",
      "  Preparing metadata (setup.py) ... \u001b[?25ldone\n",
      "\u001b[?25hRequirement already satisfied: certifi>=14.05.14 in /Users/zhxu/miniconda3/envs/python/lib/python3.10/site-packages (from fluid==0.1.0) (2023.11.17)\n",
      "Requirement already satisfied: six>=1.10 in /Users/zhxu/miniconda3/envs/python/lib/python3.10/site-packages (from fluid==0.1.0) (1.16.0)\n",
      "Requirement already satisfied: python_dateutil>=2.5.3 in /Users/zhxu/miniconda3/envs/python/lib/python3.10/site-packages (from fluid==0.1.0) (2.8.2)\n",
      "Requirement already satisfied: setuptools>=21.0.0 in /Users/zhxu/miniconda3/envs/python/lib/python3.10/site-packages (from fluid==0.1.0) (68.2.2)\n",
      "Requirement already satisfied: urllib3>=1.15.1 in /Users/zhxu/miniconda3/envs/python/lib/python3.10/site-packages (from fluid==0.1.0) (1.26.18)\n",
      "Requirement already satisfied: kubernetes>=22.6.0 in /Users/zhxu/miniconda3/envs/python/lib/python3.10/site-packages (from fluid==0.1.0) (29.0.0)\n",
      "Requirement already satisfied: fsspec~=2023.12.2 in /Users/zhxu/miniconda3/envs/python/lib/python3.10/site-packages (from fluid==0.1.0) (2023.12.2)\n",
      "Requirement already satisfied: s3fs~=2023.12.2 in /Users/zhxu/miniconda3/envs/python/lib/python3.10/site-packages (from fluid==0.1.0) (2023.12.2)\n",
      "Requirement already satisfied: pyyaml>=5.4.1 in /Users/zhxu/miniconda3/envs/python/lib/python3.10/site-packages (from kubernetes>=22.6.0->fluid==0.1.0) (6.0.1)\n",
      "Requirement already satisfied: google-auth>=1.0.1 in /Users/zhxu/miniconda3/envs/python/lib/python3.10/site-packages (from kubernetes>=22.6.0->fluid==0.1.0) (2.25.2)\n",
      "Requirement already satisfied: websocket-client!=0.40.0,!=0.41.*,!=0.42.*,>=0.32.0 in /Users/zhxu/miniconda3/envs/python/lib/python3.10/site-packages (from kubernetes>=22.6.0->fluid==0.1.0) (1.7.0)\n",
      "Requirement already satisfied: requests in /Users/zhxu/miniconda3/envs/python/lib/python3.10/site-packages (from kubernetes>=22.6.0->fluid==0.1.0) (2.31.0)\n",
      "Requirement already satisfied: requests-oauthlib in /Users/zhxu/miniconda3/envs/python/lib/python3.10/site-packages (from kubernetes>=22.6.0->fluid==0.1.0) (1.3.1)\n",
      "Requirement already satisfied: oauthlib>=3.2.2 in /Users/zhxu/miniconda3/envs/python/lib/python3.10/site-packages (from kubernetes>=22.6.0->fluid==0.1.0) (3.2.2)\n",
      "Requirement already satisfied: aiobotocore<3.0.0,>=2.5.4 in /Users/zhxu/miniconda3/envs/python/lib/python3.10/site-packages (from s3fs~=2023.12.2->fluid==0.1.0) (2.9.0)\n",
      "Requirement already satisfied: aiohttp!=4.0.0a0,!=4.0.0a1 in /Users/zhxu/miniconda3/envs/python/lib/python3.10/site-packages (from s3fs~=2023.12.2->fluid==0.1.0) (3.9.1)\n",
      "Requirement already satisfied: botocore<1.33.14,>=1.33.2 in /Users/zhxu/miniconda3/envs/python/lib/python3.10/site-packages (from aiobotocore<3.0.0,>=2.5.4->s3fs~=2023.12.2->fluid==0.1.0) (1.33.13)\n",
      "Requirement already satisfied: wrapt<2.0.0,>=1.10.10 in /Users/zhxu/miniconda3/envs/python/lib/python3.10/site-packages (from aiobotocore<3.0.0,>=2.5.4->s3fs~=2023.12.2->fluid==0.1.0) (1.16.0)\n",
      "Requirement already satisfied: aioitertools<1.0.0,>=0.5.1 in /Users/zhxu/miniconda3/envs/python/lib/python3.10/site-packages (from aiobotocore<3.0.0,>=2.5.4->s3fs~=2023.12.2->fluid==0.1.0) (0.11.0)\n",
      "Requirement already satisfied: attrs>=17.3.0 in /Users/zhxu/miniconda3/envs/python/lib/python3.10/site-packages (from aiohttp!=4.0.0a0,!=4.0.0a1->s3fs~=2023.12.2->fluid==0.1.0) (23.1.0)\n",
      "Requirement already satisfied: multidict<7.0,>=4.5 in /Users/zhxu/miniconda3/envs/python/lib/python3.10/site-packages (from aiohttp!=4.0.0a0,!=4.0.0a1->s3fs~=2023.12.2->fluid==0.1.0) (6.0.4)\n",
      "Requirement already satisfied: yarl<2.0,>=1.0 in /Users/zhxu/miniconda3/envs/python/lib/python3.10/site-packages (from aiohttp!=4.0.0a0,!=4.0.0a1->s3fs~=2023.12.2->fluid==0.1.0) (1.9.3)\n",
      "Requirement already satisfied: frozenlist>=1.1.1 in /Users/zhxu/miniconda3/envs/python/lib/python3.10/site-packages (from aiohttp!=4.0.0a0,!=4.0.0a1->s3fs~=2023.12.2->fluid==0.1.0) (1.4.1)\n",
      "Requirement already satisfied: aiosignal>=1.1.2 in /Users/zhxu/miniconda3/envs/python/lib/python3.10/site-packages (from aiohttp!=4.0.0a0,!=4.0.0a1->s3fs~=2023.12.2->fluid==0.1.0) (1.3.1)\n",
      "Requirement already satisfied: async-timeout<5.0,>=4.0 in /Users/zhxu/miniconda3/envs/python/lib/python3.10/site-packages (from aiohttp!=4.0.0a0,!=4.0.0a1->s3fs~=2023.12.2->fluid==0.1.0) (4.0.3)\n",
      "Requirement already satisfied: cachetools<6.0,>=2.0.0 in /Users/zhxu/miniconda3/envs/python/lib/python3.10/site-packages (from google-auth>=1.0.1->kubernetes>=22.6.0->fluid==0.1.0) (5.3.2)\n",
      "Requirement already satisfied: pyasn1-modules>=0.2.1 in /Users/zhxu/miniconda3/envs/python/lib/python3.10/site-packages (from google-auth>=1.0.1->kubernetes>=22.6.0->fluid==0.1.0) (0.3.0)\n",
      "Requirement already satisfied: rsa<5,>=3.1.4 in /Users/zhxu/miniconda3/envs/python/lib/python3.10/site-packages (from google-auth>=1.0.1->kubernetes>=22.6.0->fluid==0.1.0) (4.9)\n",
      "Requirement already satisfied: charset-normalizer<4,>=2 in /Users/zhxu/miniconda3/envs/python/lib/python3.10/site-packages (from requests->kubernetes>=22.6.0->fluid==0.1.0) (3.3.2)\n",
      "Requirement already satisfied: idna<4,>=2.5 in /Users/zhxu/miniconda3/envs/python/lib/python3.10/site-packages (from requests->kubernetes>=22.6.0->fluid==0.1.0) (3.6)\n",
      "Requirement already satisfied: jmespath<2.0.0,>=0.7.1 in /Users/zhxu/miniconda3/envs/python/lib/python3.10/site-packages (from botocore<1.33.14,>=1.33.2->aiobotocore<3.0.0,>=2.5.4->s3fs~=2023.12.2->fluid==0.1.0) (1.0.1)\n",
      "Requirement already satisfied: pyasn1<0.6.0,>=0.4.6 in /Users/zhxu/miniconda3/envs/python/lib/python3.10/site-packages (from pyasn1-modules>=0.2.1->google-auth>=1.0.1->kubernetes>=22.6.0->fluid==0.1.0) (0.5.1)\n",
      "Note: you may need to restart the kernel to use updated packages.\n",
      "Looking in indexes: https://pypi.tuna.tsinghua.edu.cn/simple\n",
      "Requirement already satisfied: kubernetes in /Users/zhxu/miniconda3/envs/python/lib/python3.10/site-packages (29.0.0)\n",
      "Requirement already satisfied: certifi>=14.05.14 in /Users/zhxu/miniconda3/envs/python/lib/python3.10/site-packages (from kubernetes) (2023.11.17)\n",
      "Requirement already satisfied: six>=1.9.0 in /Users/zhxu/miniconda3/envs/python/lib/python3.10/site-packages (from kubernetes) (1.16.0)\n",
      "Requirement already satisfied: python-dateutil>=2.5.3 in /Users/zhxu/miniconda3/envs/python/lib/python3.10/site-packages (from kubernetes) (2.8.2)\n",
      "Requirement already satisfied: pyyaml>=5.4.1 in /Users/zhxu/miniconda3/envs/python/lib/python3.10/site-packages (from kubernetes) (6.0.1)\n",
      "Requirement already satisfied: google-auth>=1.0.1 in /Users/zhxu/miniconda3/envs/python/lib/python3.10/site-packages (from kubernetes) (2.25.2)\n",
      "Requirement already satisfied: websocket-client!=0.40.0,!=0.41.*,!=0.42.*,>=0.32.0 in /Users/zhxu/miniconda3/envs/python/lib/python3.10/site-packages (from kubernetes) (1.7.0)\n",
      "Requirement already satisfied: requests in /Users/zhxu/miniconda3/envs/python/lib/python3.10/site-packages (from kubernetes) (2.31.0)\n",
      "Requirement already satisfied: requests-oauthlib in /Users/zhxu/miniconda3/envs/python/lib/python3.10/site-packages (from kubernetes) (1.3.1)\n",
      "Requirement already satisfied: oauthlib>=3.2.2 in /Users/zhxu/miniconda3/envs/python/lib/python3.10/site-packages (from kubernetes) (3.2.2)\n",
      "Requirement already satisfied: urllib3>=1.24.2 in /Users/zhxu/miniconda3/envs/python/lib/python3.10/site-packages (from kubernetes) (1.26.18)\n",
      "Requirement already satisfied: cachetools<6.0,>=2.0.0 in /Users/zhxu/miniconda3/envs/python/lib/python3.10/site-packages (from google-auth>=1.0.1->kubernetes) (5.3.2)\n",
      "Requirement already satisfied: pyasn1-modules>=0.2.1 in /Users/zhxu/miniconda3/envs/python/lib/python3.10/site-packages (from google-auth>=1.0.1->kubernetes) (0.3.0)\n",
      "Requirement already satisfied: rsa<5,>=3.1.4 in /Users/zhxu/miniconda3/envs/python/lib/python3.10/site-packages (from google-auth>=1.0.1->kubernetes) (4.9)\n",
      "Requirement already satisfied: charset-normalizer<4,>=2 in /Users/zhxu/miniconda3/envs/python/lib/python3.10/site-packages (from requests->kubernetes) (3.3.2)\n",
      "Requirement already satisfied: idna<4,>=2.5 in /Users/zhxu/miniconda3/envs/python/lib/python3.10/site-packages (from requests->kubernetes) (3.6)\n",
      "Requirement already satisfied: pyasn1<0.6.0,>=0.4.6 in /Users/zhxu/miniconda3/envs/python/lib/python3.10/site-packages (from pyasn1-modules>=0.2.1->google-auth>=1.0.1->kubernetes) (0.5.1)\n",
      "Note: you may need to restart the kernel to use updated packages.\n"
     ]
    }
   ],
   "source": [
    "# Install Fluid Python SDK\n",
    "# !pip config set global.index-url https://pypi.tuna.tsinghua.edu.cn/simple\n",
    "%pip install git+https://github.com/fluid-cloudnative/fluid-client-python.git\n",
    "%pip install kubernetes"
   ]
  },
  {
   "cell_type": "code",
   "execution_count": 2,
   "metadata": {},
   "outputs": [
    {
     "data": {
      "text/plain": [
       "'0.1'"
      ]
     },
     "execution_count": 2,
     "metadata": {},
     "output_type": "execute_result"
    }
   ],
   "source": [
    "import fluid\n",
    "fluid.__version__"
   ]
  },
  {
   "cell_type": "markdown",
   "metadata": {},
   "source": [
    "## 准备Fluid Dataset"
   ]
  },
  {
   "cell_type": "code",
   "execution_count": 3,
   "metadata": {},
   "outputs": [],
   "source": [
    "# Initialize fluid client\n",
    "from fluid import FluidClient\n",
    "from fluid import constants\n",
    "from fluid import models\n",
    "\n",
    "from kubernetes import client\n",
    "\n",
    "fluid_client = fluid.FluidClient()"
   ]
  },
  {
   "cell_type": "code",
   "execution_count": 4,
   "metadata": {},
   "outputs": [],
   "source": [
    "# Setting fluidsdk logger level to DEBUG for detailed messages\n",
    "import logging\n",
    "import sys\n",
    "logger = logging.getLogger(\"fluidsdk\")\n",
    "stream_handler = logging.StreamHandler(sys.stdout)\n",
    "stream_handler.setFormatter(logging.Formatter('%(asctime)s - %(name)s - %(levelname)s - %(message)s'))\n",
    "logger.addHandler(stream_handler)\n",
    "logger.setLevel(logging.DEBUG)"
   ]
  },
  {
   "cell_type": "code",
   "execution_count": 5,
   "metadata": {},
   "outputs": [
    {
     "name": "stdout",
     "output_type": "stream",
     "text": [
      "2024-01-11 16:34:31,779 - fluidsdk - DEBUG - Dataset \"default/mydataset\" created successfully\n"
     ]
    }
   ],
   "source": [
    "# Create Fluid Dataset\n",
    "secret_name=\"jfs-secret\"\n",
    "dataset = models.Dataset(\n",
    "    api_version=constants.API_VERSION,\n",
    "    kind=constants.DATASET_KIND,\n",
    "    metadata=client.V1ObjectMeta(\n",
    "        name=\"mydataset\"\n",
    "    ),\n",
    "    spec=models.DatasetSpec(\n",
    "        access_modes=[\"ReadWriteMany\"],\n",
    "        mounts=[\n",
    "            models.Mount(\n",
    "                name=\"minio\",\n",
    "                mount_point=\"juicefs:///\",\n",
    "                options={\n",
    "                    \"bucket\": \"http://minio:9000/minio/test\",\n",
    "                    \"storage\": \"minio\"\n",
    "                },\n",
    "                encrypt_options=[\n",
    "                    models.EncryptOption(\n",
    "                        name=\"access-key\",\n",
    "                        value_from=models.EncryptOptionSource(\n",
    "                            secret_key_ref=models.SecretKeySelector(\n",
    "                                name=secret_name,\n",
    "                                key=\"access-key\"\n",
    "                            )\n",
    "                        )\n",
    "                    ),\n",
    "                    models.EncryptOption(\n",
    "                        name=\"secret-key\",\n",
    "                        value_from=models.EncryptOptionSource(\n",
    "                            secret_key_ref=models.SecretKeySelector(\n",
    "                                name=secret_name,\n",
    "                                key=\"secret-key\"\n",
    "                            )\n",
    "                        )\n",
    "                    ),\n",
    "                    models.EncryptOption(\n",
    "                        name=\"metaurl\",\n",
    "                        value_from=models.EncryptOptionSource(\n",
    "                            secret_key_ref=models.SecretKeySelector(\n",
    "                                name=secret_name,\n",
    "                                key=\"metaurl\"\n",
    "                            )\n",
    "                        )\n",
    "                    )\n",
    "                ]\n",
    "            )\n",
    "        ]\n",
    "    )\n",
    ")\n",
    "fluid_client.create_dataset(dataset)"
   ]
  },
  {
   "cell_type": "code",
   "execution_count": 6,
   "metadata": {},
   "outputs": [
    {
     "name": "stdout",
     "output_type": "stream",
     "text": [
      "2024-01-11 16:34:34,434 - fluidsdk - DEBUG - JuiceFSRuntime \"default/mydataset\" created successfully\n"
     ]
    }
   ],
   "source": [
    "runtime = models.JuiceFSRuntime(\n",
    "    api_version=constants.API_VERSION,\n",
    "    kind=constants.JUICEFS_RUNTIME_KIND,\n",
    "    metadata=client.V1ObjectMeta(\n",
    "        name=\"mydataset\"\n",
    "    ),\n",
    "    spec=models.JuiceFSRuntimeSpec(\n",
    "        replicas=2,\n",
    "        tieredstore=models.TieredStore(\n",
    "            levels=[\n",
    "                models.Level(\n",
    "                    mediumtype=\"MEM\",\n",
    "                    volume_type=\"emptyDir\",\n",
    "                    path=\"/dev/shm\",\n",
    "                    quota=\"10Gi\",\n",
    "                    low=\"0.1\"\n",
    "                )\n",
    "            ]\n",
    "        )\n",
    "    )\n",
    ")\n",
    "fluid_client.create_runtime(runtime)"
   ]
  },
  {
   "cell_type": "markdown",
   "metadata": {},
   "source": [
    "## 构建机器学习训练流水线"
   ]
  },
  {
   "cell_type": "markdown",
   "metadata": {},
   "source": [
    "首先，获取刚才创建的Fluid Dataset实例"
   ]
  },
  {
   "cell_type": "code",
   "execution_count": 7,
   "metadata": {},
   "outputs": [
    {
     "name": "stdout",
     "output_type": "stream",
     "text": [
      "2024-01-11 16:35:09,979 - fluidsdk - DEBUG - Dataset \"default/mydataset\" retrieved successfully\n",
      "Bound\n"
     ]
    }
   ],
   "source": [
    "ds = fluid_client.get_dataset(name=\"mydataset\")\n",
    "print(ds.status.phase)"
   ]
  },
  {
   "cell_type": "markdown",
   "metadata": {},
   "source": [
    "Fluid Dataset实例支持一系列数据处理操作，包括数据迁移、数据缓存预热和数据处理，按照机器学习训练流水线的步骤，首先将阿里云OSS对象存储系统中的MNIST原始数据集迁移到`mydataset`中。"
   ]
  },
  {
   "cell_type": "code",
   "execution_count": 8,
   "metadata": {},
   "outputs": [],
   "source": [
    "def get_oss_encrypt_options(secret_name):\n",
    "    # Replace the following with your own secret references\n",
    "    encrypt_options = []\n",
    "    encrypt_options.append(models.EncryptOption(\n",
    "        name=\"access-key\",\n",
    "        value_from=models.EncryptOptionSource(\n",
    "            secret_key_ref=models.SecretKeySelector(\n",
    "                name=secret_name,\n",
    "                key=\"access-key\"\n",
    "            )\n",
    "        )\n",
    "    ))\n",
    "    encrypt_options.append(models.EncryptOption(\n",
    "        name=\"secret-key\",\n",
    "        value_from=models.EncryptOptionSource(\n",
    "            secret_key_ref=models.SecretKeySelector(\n",
    "                name=secret_name,\n",
    "                key=\"secret-key\"\n",
    "            )\n",
    "        )\n",
    "    ))\n",
    "    return encrypt_options\n",
    "\n",
    "flow = ds.migrate(path=\"/MNIST/raw/\", migrate_direction=constants.DATA_MIGRATE_DIRECTION_FROM,\n",
    "                    external_storage=models.ExternalStorage(\n",
    "                        uri=\"oss://fluid-demo.oss-cn-beijing-internal.aliyuncs.com/mnist/\",\n",
    "                        encrypt_options=get_oss_encrypt_options(\"oss-access-creds\")))"
   ]
  },
  {
   "cell_type": "markdown",
   "metadata": {},
   "source": [
    "上述代码片段中，我们通过`ds.migrate()`创建了一条Fluid数据流（DataFlow），该数据流采用一种懒惰执行(Lazy Execute)的方式，因此在实际执行前我们可以在该数据流后追加其他数据操作。例如，新增数据处理操作，解压迁移的MNIST原始数据集，并将解压结果存储到Dataset `mydataset`中。"
   ]
  },
  {
   "cell_type": "code",
   "execution_count": 9,
   "metadata": {},
   "outputs": [],
   "source": [
    "decompress_mnist_script = \"\"\"\n",
    "#!/bin/bash\n",
    "set -ex\n",
    "\n",
    "cd /data/mnist\n",
    "\n",
    "gzip -d --keep t10k-images-idx3-ubyte.gz\n",
    "gzip -d --keep t10k-labels-idx1-ubyte.gz\n",
    "gzip -d --keep train-images-idx3-ubyte.gz\n",
    "gzip -d --keep train-labels-idx1-ubyte.gz\n",
    "\"\"\"\n",
    "\n",
    "flow = flow.process(dataset_mountpath=\"/data/mnist/\", sub_path=\"MNIST/raw/\", processor=models.Processor(\n",
    "            script=models.ScriptProcessor(\n",
    "                command=[\"bash\"],\n",
    "                source=decompress_mnist_script,\n",
    "                image=\"debian\",\n",
    "                image_tag=\"buster\")))"
   ]
  },
  {
   "cell_type": "markdown",
   "metadata": {},
   "source": [
    "接着，我们显式地对MNIST数据集执行预热，即将解压后的MNIST数据集提前加载到缓存系统中，以增加后续模型训练时的数据读取效率。"
   ]
  },
  {
   "cell_type": "code",
   "execution_count": 10,
   "metadata": {},
   "outputs": [],
   "source": [
    "flow = flow.preload(target_path=\"/MNIST/raw\")"
   ]
  },
  {
   "cell_type": "markdown",
   "metadata": {},
   "source": [
    "定义完数据缓存预热的数据流步骤后，使用数据处理操作定义一个新的数据流步骤，在这个步骤中我们使用Arena命令行工具提交一个PyTorch训练任务，训练任务的镜像中包含了PyTorch的基础环境以及PyTorch官方的MNIST训练代码示例。该训练任务读取MNIST数据集并训练一个CNN模型，并会将CNN模型的Checkpoint文件写入到缓存系统中。"
   ]
  },
  {
   "cell_type": "code",
   "execution_count": 11,
   "metadata": {},
   "outputs": [],
   "source": [
    "def get_submit_job_script(dataset_name, job_image, command):\n",
    "    return f\"\"\"\n",
    "    #!/bin/bash\n",
    "    set -ex\n",
    "    arena submit pytorch \\\n",
    "        --name=mnist-pytorch \\\n",
    "        --gpus=1 \\\n",
    "        --workers=1 \\\n",
    "        --image={job_image} \\\n",
    "        --data={dataset_name}:/data \\\n",
    "        {command}\n",
    "        \n",
    "    while true; do\n",
    "        sleep 5\n",
    "        status=$(arena get mnist-pytorch -o json | jq .status | tr -d '\"')\n",
    "        if [ \"$status\" == \"SUCCEEDED\" ]; then\n",
    "            break\n",
    "        fi\n",
    "    done\n",
    "    \"\"\"\n",
    "\n",
    "flow = flow.process(dataset_mountpath=\"/data/mnist\", sub_path=\"MNIST/raw\", processor=models.Processor(\n",
    "            service_account_name=\"fluid-demo\",\n",
    "            script=models.ScriptProcessor(\n",
    "                command=[\"bash\"],\n",
    "                source=get_submit_job_script(\"mydataset\", \"registry-vpc.cn-beijing.aliyuncs.com/fluid-namespace/pytorch:1.12.0-torch-mnist-example\", \"'python /workspace/main.py --epochs 2 --data /data --save-model --save-model-path /data/ckpt'\"),\n",
    "                image=\"registry.cn-beijing.aliyuncs.com/fluid-namespace/python-arena\",\n",
    "                image_tag=\"3.7-0.9.11-ce87d10-01101736\")))"
   ]
  },
  {
   "cell_type": "markdown",
   "metadata": {},
   "source": [
    "在上面定义的数据处理步骤中，需要额外指定一个`service_account_name`字段，对应的ServiceAccount应当具有Arena PyTorchJob资源的创建和状态查看权限。另外，我们设置PyTorch模型训练任务的`--save-model-path`参数，指定程序将训练完成的CNN模型储存到Dataset `mydataset`中（在Arena任务提交脚本中指定了将`mydataset`挂载到模型训练任务Pod的`/data`目录）。"
   ]
  },
  {
   "cell_type": "markdown",
   "metadata": {},
   "source": [
    "最后，我们定义最后一个数据流步骤——将模型Checkpoint文件迁移到持久化存储的阿里云OSS对象存储系统中，归档训练好的CNN模型。"
   ]
  },
  {
   "cell_type": "code",
   "execution_count": 12,
   "metadata": {},
   "outputs": [],
   "source": [
    "flow = flow.migrate(path=\"/ckpt/mnist_cnn.pt\", migrate_direction=constants.DATA_MIGRATE_DIRECTION_TO,\n",
    "                    external_storage=models.ExternalStorage(\n",
    "                        uri=\"oss://fluid-demo.oss-cn-beijing-internal.aliyuncs.com/mnist_ckpt/mnist_cnn.pt\",\n",
    "                        encrypt_options=get_oss_encrypt_options(\"oss-access-creds\")))"
   ]
  },
  {
   "cell_type": "markdown",
   "metadata": {},
   "source": [
    "完成数据流定义后，通过以下命令执行完整的数据流，每次执行需要指定一个RUN ID，并返回一次数据流RUN的实例对象，使用run.wait()可以等待阻塞等待流水线运行完成。"
   ]
  },
  {
   "cell_type": "code",
   "execution_count": 13,
   "metadata": {},
   "outputs": [
    {
     "name": "stdout",
     "output_type": "stream",
     "text": [
      "2024-01-11 16:35:34,326 - fluidsdk - DEBUG - Dataset \"default/mydataset\" retrieved successfully\n",
      "2024-01-11 16:35:34,353 - fluidsdk - DEBUG - DataMigrate \"default/torch-mnist-training-step1\" created successfully\n",
      "2024-01-11 16:35:34,371 - fluidsdk - DEBUG - DataProcess \"default/torch-mnist-training-step2\" created successfully\n",
      "2024-01-11 16:35:34,389 - fluidsdk - DEBUG - DataLoad \"default/torch-mnist-training-step3\" created successfully\n",
      "2024-01-11 16:35:34,404 - fluidsdk - DEBUG - DataProcess \"default/torch-mnist-training-step4\" created successfully\n",
      "2024-01-11 16:35:34,422 - fluidsdk - DEBUG - DataMigrate \"default/torch-mnist-training-step5\" created successfully\n",
      "2024-01-11 16:35:34,477 - fluidsdk - DEBUG - DataMigrate \"default/torch-mnist-training-step1\" retrieved successfully\n",
      "2024-01-11 16:35:34,478 - fluidsdk - DEBUG - DataMigrate \"default/torch-mnist-training-step1\"'s current phase: Executing\n",
      "2024-01-11 16:35:37,501 - fluidsdk - DEBUG - DataMigrate \"default/torch-mnist-training-step1\" retrieved successfully\n",
      "2024-01-11 16:35:37,502 - fluidsdk - DEBUG - DataMigrate \"default/torch-mnist-training-step1\"'s current phase: Executing\n",
      "2024-01-11 16:35:40,533 - fluidsdk - DEBUG - DataMigrate \"default/torch-mnist-training-step1\" retrieved successfully\n",
      "2024-01-11 16:35:40,534 - fluidsdk - DEBUG - DataMigrate \"default/torch-mnist-training-step1\"'s current phase: Executing\n",
      "2024-01-11 16:35:43,565 - fluidsdk - DEBUG - DataMigrate \"default/torch-mnist-training-step1\" retrieved successfully\n",
      "2024-01-11 16:35:43,566 - fluidsdk - DEBUG - DataMigrate \"default/torch-mnist-training-step1\"'s current phase: Executing\n",
      "2024-01-11 16:35:46,593 - fluidsdk - DEBUG - DataMigrate \"default/torch-mnist-training-step1\" retrieved successfully\n",
      "2024-01-11 16:35:46,594 - fluidsdk - DEBUG - DataMigrate \"default/torch-mnist-training-step1\"'s current phase: Executing\n",
      "2024-01-11 16:35:49,627 - fluidsdk - DEBUG - DataMigrate \"default/torch-mnist-training-step1\" retrieved successfully\n",
      "2024-01-11 16:35:49,628 - fluidsdk - DEBUG - DataMigrate \"default/torch-mnist-training-step1\"'s current phase: Executing\n",
      "2024-01-11 16:35:52,657 - fluidsdk - DEBUG - DataMigrate \"default/torch-mnist-training-step1\" retrieved successfully\n",
      "2024-01-11 16:35:52,658 - fluidsdk - DEBUG - DataMigrate \"default/torch-mnist-training-step1\"'s current phase: Executing\n",
      "2024-01-11 16:35:55,693 - fluidsdk - DEBUG - DataMigrate \"default/torch-mnist-training-step1\" retrieved successfully\n",
      "2024-01-11 16:35:55,694 - fluidsdk - DEBUG - DataMigrate \"default/torch-mnist-training-step1\"'s current phase: Executing\n",
      "2024-01-11 16:35:58,718 - fluidsdk - DEBUG - DataMigrate \"default/torch-mnist-training-step1\" retrieved successfully\n",
      "2024-01-11 16:35:58,719 - fluidsdk - DEBUG - DataMigrate \"default/torch-mnist-training-step1\"'s current phase: Executing\n",
      "2024-01-11 16:36:01,748 - fluidsdk - DEBUG - DataMigrate \"default/torch-mnist-training-step1\" retrieved successfully\n",
      "2024-01-11 16:36:01,749 - fluidsdk - DEBUG - DataMigrate \"default/torch-mnist-training-step1\"'s current phase: Complete\n",
      "2024-01-11 16:36:01,749 - fluidsdk - DEBUG - DataMigrate \"default/torch-mnist-training-step1\" completed successfully after 4s\n",
      "2024-01-11 16:36:01,750 - fluidsdk - INFO - DataMigrate torch-mnist-training-step1 completed\n",
      "2024-01-11 16:36:01,769 - fluidsdk - DEBUG - DataProcess \"default/torch-mnist-training-step2\" retrieved successfully\n",
      "2024-01-11 16:36:01,769 - fluidsdk - DEBUG - DataProcess \"default/torch-mnist-training-step2\"'s current phase: Executing\n",
      "2024-01-11 16:36:04,801 - fluidsdk - DEBUG - DataProcess \"default/torch-mnist-training-step2\" retrieved successfully\n",
      "2024-01-11 16:36:04,802 - fluidsdk - DEBUG - DataProcess \"default/torch-mnist-training-step2\"'s current phase: Executing\n",
      "2024-01-11 16:36:07,826 - fluidsdk - DEBUG - DataProcess \"default/torch-mnist-training-step2\" retrieved successfully\n",
      "2024-01-11 16:36:07,827 - fluidsdk - DEBUG - DataProcess \"default/torch-mnist-training-step2\"'s current phase: Executing\n",
      "2024-01-11 16:36:10,851 - fluidsdk - DEBUG - DataProcess \"default/torch-mnist-training-step2\" retrieved successfully\n",
      "2024-01-11 16:36:10,851 - fluidsdk - DEBUG - DataProcess \"default/torch-mnist-training-step2\"'s current phase: Executing\n",
      "2024-01-11 16:36:13,872 - fluidsdk - DEBUG - DataProcess \"default/torch-mnist-training-step2\" retrieved successfully\n",
      "2024-01-11 16:36:13,873 - fluidsdk - DEBUG - DataProcess \"default/torch-mnist-training-step2\"'s current phase: Executing\n",
      "2024-01-11 16:36:16,894 - fluidsdk - DEBUG - DataProcess \"default/torch-mnist-training-step2\" retrieved successfully\n",
      "2024-01-11 16:36:16,895 - fluidsdk - DEBUG - DataProcess \"default/torch-mnist-training-step2\"'s current phase: Executing\n",
      "2024-01-11 16:36:19,919 - fluidsdk - DEBUG - DataProcess \"default/torch-mnist-training-step2\" retrieved successfully\n",
      "2024-01-11 16:36:19,920 - fluidsdk - DEBUG - DataProcess \"default/torch-mnist-training-step2\"'s current phase: Executing\n",
      "2024-01-11 16:36:22,950 - fluidsdk - DEBUG - DataProcess \"default/torch-mnist-training-step2\" retrieved successfully\n",
      "2024-01-11 16:36:22,951 - fluidsdk - DEBUG - DataProcess \"default/torch-mnist-training-step2\"'s current phase: Executing\n",
      "2024-01-11 16:36:25,973 - fluidsdk - DEBUG - DataProcess \"default/torch-mnist-training-step2\" retrieved successfully\n",
      "2024-01-11 16:36:25,974 - fluidsdk - DEBUG - DataProcess \"default/torch-mnist-training-step2\"'s current phase: Complete\n",
      "2024-01-11 16:36:25,975 - fluidsdk - DEBUG - DataProcess \"default/torch-mnist-training-step2\" completed successfully after 7s\n",
      "2024-01-11 16:36:25,976 - fluidsdk - INFO - DataProcess torch-mnist-training-step2 completed\n",
      "2024-01-11 16:36:25,994 - fluidsdk - DEBUG - DataLoad \"default/torch-mnist-training-step3\" retrieved successfully\n",
      "2024-01-11 16:36:25,995 - fluidsdk - DEBUG - DataLoad \"default/torch-mnist-training-step3\"'s current phase: Executing\n",
      "2024-01-11 16:36:29,029 - fluidsdk - DEBUG - DataLoad \"default/torch-mnist-training-step3\" retrieved successfully\n",
      "2024-01-11 16:36:29,029 - fluidsdk - DEBUG - DataLoad \"default/torch-mnist-training-step3\"'s current phase: Executing\n",
      "2024-01-11 16:36:32,061 - fluidsdk - DEBUG - DataLoad \"default/torch-mnist-training-step3\" retrieved successfully\n",
      "2024-01-11 16:36:32,062 - fluidsdk - DEBUG - DataLoad \"default/torch-mnist-training-step3\"'s current phase: Executing\n",
      "2024-01-11 16:36:35,083 - fluidsdk - DEBUG - DataLoad \"default/torch-mnist-training-step3\" retrieved successfully\n",
      "2024-01-11 16:36:35,084 - fluidsdk - DEBUG - DataLoad \"default/torch-mnist-training-step3\"'s current phase: Executing\n",
      "2024-01-11 16:36:38,107 - fluidsdk - DEBUG - DataLoad \"default/torch-mnist-training-step3\" retrieved successfully\n",
      "2024-01-11 16:36:38,108 - fluidsdk - DEBUG - DataLoad \"default/torch-mnist-training-step3\"'s current phase: Executing\n",
      "2024-01-11 16:36:41,134 - fluidsdk - DEBUG - DataLoad \"default/torch-mnist-training-step3\" retrieved successfully\n",
      "2024-01-11 16:36:41,136 - fluidsdk - DEBUG - DataLoad \"default/torch-mnist-training-step3\"'s current phase: Executing\n",
      "2024-01-11 16:36:44,157 - fluidsdk - DEBUG - DataLoad \"default/torch-mnist-training-step3\" retrieved successfully\n",
      "2024-01-11 16:36:44,158 - fluidsdk - DEBUG - DataLoad \"default/torch-mnist-training-step3\"'s current phase: Executing\n",
      "2024-01-11 16:36:47,186 - fluidsdk - DEBUG - DataLoad \"default/torch-mnist-training-step3\" retrieved successfully\n",
      "2024-01-11 16:36:47,187 - fluidsdk - DEBUG - DataLoad \"default/torch-mnist-training-step3\"'s current phase: Executing\n",
      "2024-01-11 16:36:50,209 - fluidsdk - DEBUG - DataLoad \"default/torch-mnist-training-step3\" retrieved successfully\n",
      "2024-01-11 16:36:50,210 - fluidsdk - DEBUG - DataLoad \"default/torch-mnist-training-step3\"'s current phase: Complete\n",
      "2024-01-11 16:36:50,210 - fluidsdk - DEBUG - DataLoad \"default/torch-mnist-training-step3\" completed successfully after 6s\n",
      "2024-01-11 16:36:50,211 - fluidsdk - INFO - DataLoad torch-mnist-training-step3 completed\n",
      "2024-01-11 16:36:50,227 - fluidsdk - DEBUG - DataProcess \"default/torch-mnist-training-step4\" retrieved successfully\n",
      "2024-01-11 16:36:50,228 - fluidsdk - DEBUG - DataProcess \"default/torch-mnist-training-step4\"'s current phase: Executing\n",
      "2024-01-11 16:36:53,248 - fluidsdk - DEBUG - DataProcess \"default/torch-mnist-training-step4\" retrieved successfully\n",
      "2024-01-11 16:36:53,249 - fluidsdk - DEBUG - DataProcess \"default/torch-mnist-training-step4\"'s current phase: Executing\n",
      "2024-01-11 16:36:56,274 - fluidsdk - DEBUG - DataProcess \"default/torch-mnist-training-step4\" retrieved successfully\n",
      "2024-01-11 16:36:56,275 - fluidsdk - DEBUG - DataProcess \"default/torch-mnist-training-step4\"'s current phase: Executing\n",
      "2024-01-11 16:36:59,299 - fluidsdk - DEBUG - DataProcess \"default/torch-mnist-training-step4\" retrieved successfully\n",
      "2024-01-11 16:36:59,299 - fluidsdk - DEBUG - DataProcess \"default/torch-mnist-training-step4\"'s current phase: Executing\n",
      "2024-01-11 16:37:02,334 - fluidsdk - DEBUG - DataProcess \"default/torch-mnist-training-step4\" retrieved successfully\n",
      "2024-01-11 16:37:02,335 - fluidsdk - DEBUG - DataProcess \"default/torch-mnist-training-step4\"'s current phase: Executing\n",
      "2024-01-11 16:37:05,358 - fluidsdk - DEBUG - DataProcess \"default/torch-mnist-training-step4\" retrieved successfully\n",
      "2024-01-11 16:37:05,359 - fluidsdk - DEBUG - DataProcess \"default/torch-mnist-training-step4\"'s current phase: Executing\n",
      "2024-01-11 16:37:08,379 - fluidsdk - DEBUG - DataProcess \"default/torch-mnist-training-step4\" retrieved successfully\n",
      "2024-01-11 16:37:08,379 - fluidsdk - DEBUG - DataProcess \"default/torch-mnist-training-step4\"'s current phase: Executing\n",
      "2024-01-11 16:37:11,405 - fluidsdk - DEBUG - DataProcess \"default/torch-mnist-training-step4\" retrieved successfully\n",
      "2024-01-11 16:37:11,406 - fluidsdk - DEBUG - DataProcess \"default/torch-mnist-training-step4\"'s current phase: Executing\n",
      "2024-01-11 16:37:14,437 - fluidsdk - DEBUG - DataProcess \"default/torch-mnist-training-step4\" retrieved successfully\n",
      "2024-01-11 16:37:14,438 - fluidsdk - DEBUG - DataProcess \"default/torch-mnist-training-step4\"'s current phase: Executing\n",
      "2024-01-11 16:37:17,468 - fluidsdk - DEBUG - DataProcess \"default/torch-mnist-training-step4\" retrieved successfully\n",
      "2024-01-11 16:37:17,469 - fluidsdk - DEBUG - DataProcess \"default/torch-mnist-training-step4\"'s current phase: Executing\n",
      "2024-01-11 16:37:20,487 - fluidsdk - DEBUG - DataProcess \"default/torch-mnist-training-step4\" retrieved successfully\n",
      "2024-01-11 16:37:20,488 - fluidsdk - DEBUG - DataProcess \"default/torch-mnist-training-step4\"'s current phase: Executing\n",
      "2024-01-11 16:37:23,516 - fluidsdk - DEBUG - DataProcess \"default/torch-mnist-training-step4\" retrieved successfully\n",
      "2024-01-11 16:37:23,517 - fluidsdk - DEBUG - DataProcess \"default/torch-mnist-training-step4\"'s current phase: Executing\n",
      "2024-01-11 16:37:26,545 - fluidsdk - DEBUG - DataProcess \"default/torch-mnist-training-step4\" retrieved successfully\n",
      "2024-01-11 16:37:26,546 - fluidsdk - DEBUG - DataProcess \"default/torch-mnist-training-step4\"'s current phase: Executing\n",
      "2024-01-11 16:37:29,570 - fluidsdk - DEBUG - DataProcess \"default/torch-mnist-training-step4\" retrieved successfully\n",
      "2024-01-11 16:37:29,571 - fluidsdk - DEBUG - DataProcess \"default/torch-mnist-training-step4\"'s current phase: Executing\n",
      "2024-01-11 16:37:32,602 - fluidsdk - DEBUG - DataProcess \"default/torch-mnist-training-step4\" retrieved successfully\n",
      "2024-01-11 16:37:32,603 - fluidsdk - DEBUG - DataProcess \"default/torch-mnist-training-step4\"'s current phase: Executing\n",
      "2024-01-11 16:37:35,629 - fluidsdk - DEBUG - DataProcess \"default/torch-mnist-training-step4\" retrieved successfully\n",
      "2024-01-11 16:37:35,630 - fluidsdk - DEBUG - DataProcess \"default/torch-mnist-training-step4\"'s current phase: Complete\n",
      "2024-01-11 16:37:35,630 - fluidsdk - DEBUG - DataProcess \"default/torch-mnist-training-step4\" completed successfully after 34s\n",
      "2024-01-11 16:37:35,631 - fluidsdk - INFO - DataProcess torch-mnist-training-step4 completed\n",
      "2024-01-11 16:37:35,650 - fluidsdk - DEBUG - DataMigrate \"default/torch-mnist-training-step5\" retrieved successfully\n",
      "2024-01-11 16:37:35,652 - fluidsdk - DEBUG - DataMigrate \"default/torch-mnist-training-step5\"'s current phase: Pending\n",
      "2024-01-11 16:37:38,673 - fluidsdk - DEBUG - DataMigrate \"default/torch-mnist-training-step5\" retrieved successfully\n",
      "2024-01-11 16:37:38,674 - fluidsdk - DEBUG - DataMigrate \"default/torch-mnist-training-step5\"'s current phase: Pending\n",
      "2024-01-11 16:37:41,699 - fluidsdk - DEBUG - DataMigrate \"default/torch-mnist-training-step5\" retrieved successfully\n",
      "2024-01-11 16:37:41,700 - fluidsdk - DEBUG - DataMigrate \"default/torch-mnist-training-step5\"'s current phase: Executing\n",
      "2024-01-11 16:37:44,734 - fluidsdk - DEBUG - DataMigrate \"default/torch-mnist-training-step5\" retrieved successfully\n",
      "2024-01-11 16:37:44,735 - fluidsdk - DEBUG - DataMigrate \"default/torch-mnist-training-step5\"'s current phase: Executing\n",
      "2024-01-11 16:37:47,758 - fluidsdk - DEBUG - DataMigrate \"default/torch-mnist-training-step5\" retrieved successfully\n",
      "2024-01-11 16:37:47,759 - fluidsdk - DEBUG - DataMigrate \"default/torch-mnist-training-step5\"'s current phase: Executing\n",
      "2024-01-11 16:37:50,786 - fluidsdk - DEBUG - DataMigrate \"default/torch-mnist-training-step5\" retrieved successfully\n",
      "2024-01-11 16:37:50,787 - fluidsdk - DEBUG - DataMigrate \"default/torch-mnist-training-step5\"'s current phase: Executing\n",
      "2024-01-11 16:37:53,844 - fluidsdk - DEBUG - DataMigrate \"default/torch-mnist-training-step5\" retrieved successfully\n",
      "2024-01-11 16:37:53,845 - fluidsdk - DEBUG - DataMigrate \"default/torch-mnist-training-step5\"'s current phase: Executing\n",
      "2024-01-11 16:37:56,872 - fluidsdk - DEBUG - DataMigrate \"default/torch-mnist-training-step5\" retrieved successfully\n",
      "2024-01-11 16:37:56,873 - fluidsdk - DEBUG - DataMigrate \"default/torch-mnist-training-step5\"'s current phase: Executing\n",
      "2024-01-11 16:37:59,896 - fluidsdk - DEBUG - DataMigrate \"default/torch-mnist-training-step5\" retrieved successfully\n",
      "2024-01-11 16:37:59,897 - fluidsdk - DEBUG - DataMigrate \"default/torch-mnist-training-step5\"'s current phase: Executing\n",
      "2024-01-11 16:38:02,914 - fluidsdk - DEBUG - DataMigrate \"default/torch-mnist-training-step5\" retrieved successfully\n",
      "2024-01-11 16:38:02,915 - fluidsdk - DEBUG - DataMigrate \"default/torch-mnist-training-step5\"'s current phase: Executing\n",
      "2024-01-11 16:38:05,947 - fluidsdk - DEBUG - DataMigrate \"default/torch-mnist-training-step5\" retrieved successfully\n",
      "2024-01-11 16:38:05,947 - fluidsdk - DEBUG - DataMigrate \"default/torch-mnist-training-step5\"'s current phase: Complete\n",
      "2024-01-11 16:38:05,948 - fluidsdk - DEBUG - DataMigrate \"default/torch-mnist-training-step5\" completed successfully after 4s\n",
      "2024-01-11 16:38:05,949 - fluidsdk - INFO - DataMigrate torch-mnist-training-step5 completed\n"
     ]
    }
   ],
   "source": [
    "run = flow.run(run_id=\"torch-mnist-training\")\n",
    "run.wait()"
   ]
  },
  {
   "cell_type": "markdown",
   "metadata": {},
   "source": [
    "## 清理Fluid Dataset\n",
    "机器学习训练流水线执行完成后，可将缓存系统缩容或删除，来清理占用的缓存资源。"
   ]
  },
  {
   "cell_type": "code",
   "execution_count": 14,
   "metadata": {},
   "outputs": [
    {
     "name": "stdout",
     "output_type": "stream",
     "text": [
      "2024-01-11 16:40:03,570 - fluidsdk - DEBUG - Dataset \"default/mydataset\" deleted successfully\n",
      "2024-01-11 16:40:03,583 - fluidsdk - WARNING - AlluxioRuntime \"default/mydataset\" not found. Maybe already deleted.\n",
      "2024-01-11 16:40:03,600 - fluidsdk - DEBUG - AlluxioRuntime \"default/mydataset\" deleted successfully\n",
      "2024-01-11 16:40:03,646 - fluidsdk - DEBUG - JuiceFSRuntime \"default/mydataset\" retrieved successfully\n",
      "2024-01-11 16:40:04,673 - fluidsdk - DEBUG - JuiceFSRuntime \"default/mydataset\" retrieved successfully\n",
      "2024-01-11 16:40:05,703 - fluidsdk - DEBUG - JuiceFSRuntime \"default/mydataset\" retrieved successfully\n",
      "2024-01-11 16:40:06,732 - fluidsdk - DEBUG - JuiceFSRuntime \"default/mydataset\" retrieved successfully\n",
      "2024-01-11 16:40:07,761 - fluidsdk - DEBUG - JuiceFSRuntime \"default/mydataset\" retrieved successfully\n",
      "2024-01-11 16:40:08,787 - fluidsdk - DEBUG - JuiceFSRuntime \"default/mydataset\" retrieved successfully\n",
      "2024-01-11 16:40:09,815 - fluidsdk - DEBUG - JuiceFSRuntime \"default/mydataset\" retrieved successfully\n",
      "2024-01-11 16:40:10,844 - fluidsdk - DEBUG - JuiceFSRuntime \"default/mydataset\" retrieved successfully\n",
      "2024-01-11 16:40:11,871 - fluidsdk - DEBUG - JuiceFSRuntime \"default/mydataset\" retrieved successfully\n",
      "2024-01-11 16:40:12,909 - fluidsdk - DEBUG - JuiceFSRuntime \"default/mydataset\" retrieved successfully\n",
      "2024-01-11 16:40:13,930 - fluidsdk - DEBUG - JuiceFSRuntime \"default/mydataset\" retrieved successfully\n",
      "2024-01-11 16:40:14,956 - fluidsdk - DEBUG - JuiceFSRuntime \"default/mydataset\" retrieved successfully\n",
      "2024-01-11 16:40:15,996 - fluidsdk - DEBUG - JuiceFSRuntime \"default/mydataset\" retrieved successfully\n",
      "2024-01-11 16:40:17,030 - fluidsdk - DEBUG - JuiceFSRuntime \"default/mydataset\" retrieved successfully\n",
      "2024-01-11 16:40:18,053 - fluidsdk - DEBUG - JuiceFSRuntime \"default/mydataset\" retrieved successfully\n",
      "2024-01-11 16:40:19,086 - fluidsdk - DEBUG - JuiceFSRuntime \"default/mydataset\" retrieved successfully\n",
      "2024-01-11 16:40:20,117 - fluidsdk - DEBUG - JuiceFSRuntime \"default/mydataset\" retrieved successfully\n",
      "2024-01-11 16:40:21,143 - fluidsdk - DEBUG - JuiceFSRuntime \"default/mydataset\" retrieved successfully\n",
      "2024-01-11 16:40:22,176 - fluidsdk - DEBUG - JuiceFSRuntime \"default/mydataset\" retrieved successfully\n",
      "2024-01-11 16:40:23,205 - fluidsdk - DEBUG - JuiceFSRuntime \"default/mydataset\" retrieved successfully\n",
      "2024-01-11 16:40:24,226 - fluidsdk - DEBUG - JuiceFSRuntime \"default/mydataset\" retrieved successfully\n",
      "2024-01-11 16:40:25,263 - fluidsdk - DEBUG - JuiceFSRuntime \"default/mydataset\" retrieved successfully\n",
      "2024-01-11 16:40:26,292 - fluidsdk - DEBUG - JuiceFSRuntime \"default/mydataset\" retrieved successfully\n",
      "2024-01-11 16:40:27,315 - fluidsdk - DEBUG - JuiceFSRuntime \"default/mydataset\" retrieved successfully\n",
      "2024-01-11 16:40:28,345 - fluidsdk - DEBUG - JuiceFSRuntime \"default/mydataset\" retrieved successfully\n",
      "2024-01-11 16:40:29,374 - fluidsdk - DEBUG - JuiceFSRuntime \"default/mydataset\" retrieved successfully\n",
      "2024-01-11 16:40:30,404 - fluidsdk - DEBUG - JuiceFSRuntime \"default/mydataset\" retrieved successfully\n",
      "2024-01-11 16:40:31,436 - fluidsdk - DEBUG - JuiceFSRuntime \"default/mydataset\" retrieved successfully\n",
      "2024-01-11 16:40:32,460 - fluidsdk - DEBUG - JuiceFSRuntime \"default/mydataset\" retrieved successfully\n",
      "2024-01-11 16:40:33,488 - fluidsdk - DEBUG - JuiceFSRuntime \"default/mydataset\" retrieved successfully\n",
      "2024-01-11 16:40:34,518 - fluidsdk - DEBUG - JuiceFSRuntime \"default/mydataset\" retrieved successfully\n",
      "2024-01-11 16:40:35,540 - fluidsdk - DEBUG - JuiceFSRuntime \"default/mydataset\" retrieved successfully\n",
      "2024-01-11 16:40:36,562 - fluidsdk - DEBUG - JuiceFSRuntime \"default/mydataset\" retrieved successfully\n",
      "2024-01-11 16:40:37,584 - fluidsdk - DEBUG - JuiceFSRuntime \"default/mydataset\" retrieved successfully\n",
      "2024-01-11 16:40:38,607 - fluidsdk - DEBUG - JuiceFSRuntime \"default/mydataset\" retrieved successfully\n",
      "2024-01-11 16:40:39,629 - fluidsdk - DEBUG - JuiceFSRuntime \"default/mydataset\" retrieved successfully\n",
      "2024-01-11 16:40:40,652 - fluidsdk - DEBUG - JuiceFSRuntime \"default/mydataset\" retrieved successfully\n",
      "2024-01-11 16:40:41,677 - fluidsdk - DEBUG - JuiceFSRuntime \"default/mydataset\" retrieved successfully\n",
      "2024-01-11 16:40:42,702 - fluidsdk - DEBUG - JuiceFSRuntime \"default/mydataset\" retrieved successfully\n",
      "2024-01-11 16:40:43,729 - fluidsdk - DEBUG - JuiceFSRuntime \"default/mydataset\" retrieved successfully\n",
      "2024-01-11 16:40:44,749 - fluidsdk - DEBUG - JuiceFSRuntime \"default/mydataset\" retrieved successfully\n",
      "2024-01-11 16:40:45,780 - fluidsdk - DEBUG - JuiceFSRuntime \"default/mydataset\" retrieved successfully\n",
      "2024-01-11 16:40:46,814 - fluidsdk - DEBUG - JuiceFSRuntime \"default/mydataset\" retrieved successfully\n",
      "2024-01-11 16:40:47,839 - fluidsdk - DEBUG - JuiceFSRuntime \"default/mydataset\" retrieved successfully\n",
      "2024-01-11 16:40:48,860 - fluidsdk - DEBUG - JuiceFSRuntime \"default/mydataset\" retrieved successfully\n",
      "2024-01-11 16:40:49,884 - fluidsdk - DEBUG - JuiceFSRuntime \"default/mydataset\" retrieved successfully\n",
      "2024-01-11 16:40:50,902 - fluidsdk - DEBUG - JuiceFSRuntime \"default/mydataset\" deleted successfully\n"
     ]
    }
   ],
   "source": [
    "fluid_client.delete_dataset(name=\"mydataset\", wait_until_cleaned_up=True)\n",
    "fluid_client.delete_runtime(name=\"mydataset\", runtime_type=constants.JUICEFS_RUNTIME_KIND, wait_until_cleaned_up=True)"
   ]
  },
  {
   "cell_type": "markdown",
   "metadata": {},
   "source": []
  }
 ],
 "metadata": {
  "kernelspec": {
   "display_name": "python",
   "language": "python",
   "name": "python3"
  },
  "language_info": {
   "codemirror_mode": {
    "name": "ipython",
    "version": 3
   },
   "file_extension": ".py",
   "mimetype": "text/x-python",
   "name": "python",
   "nbconvert_exporter": "python",
   "pygments_lexer": "ipython3",
   "version": "3.10.13"
  }
 },
 "nbformat": 4,
 "nbformat_minor": 2
}
